{
 "cells": [
  {
   "cell_type": "markdown",
   "metadata": {},
   "source": [
    "# DeepCam NCCL profiling\n",
    "- 16 Epochs\n",
    "- Runs on Summit\n",
    "- Batch size 2\n",
    "- Horovod, NCCL backend\n",
    "- Data collected for each rank w/ NCCL_DEBUG flags"
   ]
  },
  {
   "cell_type": "code",
   "execution_count": 1,
   "metadata": {},
   "outputs": [
    {
     "name": "stderr",
     "output_type": "stream",
     "text": [
      "/ccs/home/mrowan/.conda/envs/py37/lib/python3.7/site-packages/statsmodels/tools/_testing.py:19: FutureWarning: pandas.util.testing is deprecated. Use the functions in the public API at pandas.testing instead.\n",
      "  import pandas.util.testing as tm\n"
     ]
    },
    {
     "name": "stdout",
     "output_type": "stream",
     "text": [
      "Parsing ../results/8_nodes_batchsize_2_j937044/nccl_logs/nccl.937044.r15.w ; 15 rank, 8 nodes\n",
      "Parsing ../results/8_nodes_batchsize_2_j937044/nccl_logs/nccl.937044.r9.w ; 9 rank, 8 nodes\n",
      "Parsing ../results/8_nodes_batchsize_2_j937044/nccl_logs/nccl.937044.r31.w ; 31 rank, 8 nodes\n",
      "Parsing ../results/8_nodes_batchsize_2_j937044/nccl_logs/nccl.937044.r46.w ; 46 rank, 8 nodes\n",
      "Parsing ../results/8_nodes_batchsize_2_j937044/nccl_logs/nccl.937044.r0.w ; 0 rank, 8 nodes\n",
      "Parsing ../results/8_nodes_batchsize_2_j937044/nccl_logs/nccl.937044.r36.w ; 36 rank, 8 nodes\n",
      "Parsing ../results/8_nodes_batchsize_2_j937044/nccl_logs/nccl.937044.r13.w ; 13 rank, 8 nodes\n",
      "Parsing ../results/8_nodes_batchsize_2_j937044/nccl_logs/nccl.937044.r5.w ; 5 rank, 8 nodes\n",
      "Parsing ../results/8_nodes_batchsize_2_j937044/nccl_logs/nccl.937044.r30.w ; 30 rank, 8 nodes\n",
      "Parsing ../results/8_nodes_batchsize_2_j937044/nccl_logs/nccl.937044.r28.w ; 28 rank, 8 nodes\n",
      "Parsing ../results/8_nodes_batchsize_2_j937044/nccl_logs/nccl.937044.r17.w ; 17 rank, 8 nodes\n",
      "Parsing ../results/8_nodes_batchsize_2_j937044/nccl_logs/nccl.937044.r37.w ; 37 rank, 8 nodes\n",
      "Parsing ../results/8_nodes_batchsize_2_j937044/nccl_logs/nccl.937044.r23.w ; 23 rank, 8 nodes\n",
      "Parsing ../results/8_nodes_batchsize_2_j937044/nccl_logs/nccl.937044.r35.w ; 35 rank, 8 nodes\n",
      "Parsing ../results/8_nodes_batchsize_2_j937044/nccl_logs/nccl.937044.r8.w ; 8 rank, 8 nodes\n",
      "Parsing ../results/8_nodes_batchsize_2_j937044/nccl_logs/nccl.937044.r19.w ; 19 rank, 8 nodes\n",
      "Parsing ../results/8_nodes_batchsize_2_j937044/nccl_logs/nccl.937044.r24.w ; 24 rank, 8 nodes\n",
      "Parsing ../results/8_nodes_batchsize_2_j937044/nccl_logs/nccl.937044.r33.w ; 33 rank, 8 nodes\n",
      "Parsing ../results/8_nodes_batchsize_2_j937044/nccl_logs/nccl.937044.r25.w ; 25 rank, 8 nodes\n",
      "Parsing ../results/8_nodes_batchsize_2_j937044/nccl_logs/nccl.937044.r34.w ; 34 rank, 8 nodes\n",
      "Parsing ../results/8_nodes_batchsize_2_j937044/nccl_logs/nccl.937044.r4.w ; 4 rank, 8 nodes\n",
      "Parsing ../results/8_nodes_batchsize_2_j937044/nccl_logs/nccl.937044.r40.w ; 40 rank, 8 nodes\n",
      "Parsing ../results/8_nodes_batchsize_2_j937044/nccl_logs/nccl.937044.r7.w ; 7 rank, 8 nodes\n",
      "Parsing ../results/8_nodes_batchsize_2_j937044/nccl_logs/nccl.937044.r44.w ; 44 rank, 8 nodes\n",
      "Parsing ../results/8_nodes_batchsize_2_j937044/nccl_logs/nccl.937044.r10.w ; 10 rank, 8 nodes\n",
      "Parsing ../results/8_nodes_batchsize_2_j937044/nccl_logs/nccl.937044.r29.w ; 29 rank, 8 nodes\n",
      "Parsing ../results/8_nodes_batchsize_2_j937044/nccl_logs/nccl.937044.r6.w ; 6 rank, 8 nodes\n",
      "Parsing ../results/8_nodes_batchsize_2_j937044/nccl_logs/nccl.937044.r20.w ; 20 rank, 8 nodes\n",
      "Parsing ../results/8_nodes_batchsize_2_j937044/nccl_logs/nccl.937044.r12.w ; 12 rank, 8 nodes\n",
      "Parsing ../results/8_nodes_batchsize_2_j937044/nccl_logs/nccl.937044.r38.w ; 38 rank, 8 nodes\n",
      "Parsing ../results/8_nodes_batchsize_2_j937044/nccl_logs/nccl.937044.r1.w ; 1 rank, 8 nodes\n",
      "Parsing ../results/8_nodes_batchsize_2_j937044/nccl_logs/nccl.937044.r11.w ; 11 rank, 8 nodes\n",
      "Parsing ../results/8_nodes_batchsize_2_j937044/nccl_logs/nccl.937044.r3.w ; 3 rank, 8 nodes\n",
      "Parsing ../results/8_nodes_batchsize_2_j937044/nccl_logs/nccl.937044.r27.w ; 27 rank, 8 nodes\n",
      "Parsing ../results/8_nodes_batchsize_2_j937044/nccl_logs/nccl.937044.r47.w ; 47 rank, 8 nodes\n",
      "Parsing ../results/8_nodes_batchsize_2_j937044/nccl_logs/nccl.937044.r14.w ; 14 rank, 8 nodes\n",
      "Parsing ../results/8_nodes_batchsize_2_j937044/nccl_logs/nccl.937044.r21.w ; 21 rank, 8 nodes\n",
      "Parsing ../results/8_nodes_batchsize_2_j937044/nccl_logs/nccl.937044.r41.w ; 41 rank, 8 nodes\n",
      "Parsing ../results/8_nodes_batchsize_2_j937044/nccl_logs/nccl.937044.r16.w ; 16 rank, 8 nodes\n",
      "Parsing ../results/8_nodes_batchsize_2_j937044/nccl_logs/nccl.937044.r22.w ; 22 rank, 8 nodes\n",
      "Parsing ../results/8_nodes_batchsize_2_j937044/nccl_logs/nccl.937044.r45.w ; 45 rank, 8 nodes\n",
      "Parsing ../results/8_nodes_batchsize_2_j937044/nccl_logs/nccl.937044.r42.w ; 42 rank, 8 nodes\n",
      "Parsing ../results/8_nodes_batchsize_2_j937044/nccl_logs/nccl.937044.r32.w ; 32 rank, 8 nodes\n",
      "Parsing ../results/8_nodes_batchsize_2_j937044/nccl_logs/nccl.937044.r18.w ; 18 rank, 8 nodes\n",
      "Parsing ../results/8_nodes_batchsize_2_j937044/nccl_logs/nccl.937044.r2.w ; 2 rank, 8 nodes\n",
      "Parsing ../results/8_nodes_batchsize_2_j937044/nccl_logs/nccl.937044.r39.w ; 39 rank, 8 nodes\n",
      "Parsing ../results/8_nodes_batchsize_2_j937044/nccl_logs/nccl.937044.r43.w ; 43 rank, 8 nodes\n",
      "Parsing ../results/8_nodes_batchsize_2_j937044/nccl_logs/nccl.937044.r26.w ; 26 rank, 8 nodes\n"
     ]
    }
   ],
   "source": [
    "import numpy as np\n",
    "import matplotlib as mpl\n",
    "import matplotlib.pyplot as plt\n",
    "from matplotlib import rcParams\n",
    "import DataSet\n",
    "from textwrap import wrap\n",
    "import seaborn as sns\n",
    "from collections import Counter\n",
    "\n",
    "# Load the data\n",
    "files = ['../results/8_nodes_batchsize_2_j937044/nccl_logs/']\n",
    "\n",
    "d = DataSet.DataSet()\n",
    "for f in files:\n",
    "    d.parseInput(f, inputType='nccl')"
   ]
  },
  {
   "cell_type": "markdown",
   "metadata": {},
   "source": [
    "## Plotting preferences"
   ]
  },
  {
   "cell_type": "code",
   "execution_count": 2,
   "metadata": {},
   "outputs": [],
   "source": [
    "golden = 1.61803398875\n",
    "figWidth = 5. # inches\n",
    "figLength = figWidth/golden\n",
    "figSize1x1 = (figWidth, figLength)\n",
    "\n",
    "rcParams['font.sans-serif'] = 'Arial'\n",
    "rcParams['font.family'] = 'sans-serif'\n",
    "rcParams['mathtext.fontset'] = 'custom'\n",
    "rcParams['mathtext.rm'] = 'Arial'\n",
    "rcParams['mathtext.it'] = 'Arial:italic'\n",
    "rcParams['mathtext.bf'] = 'Arial:bold'\n",
    "rcParams['axes.labelsize'] = '12'\n",
    "rcParams['xtick.labelsize'] = '12'\n",
    "rcParams['ytick.labelsize'] = '12'\n",
    "rcParams['legend.labelspacing'] = '0.1'\n",
    "rcParams['xtick.direction'] = 'in'\n",
    "rcParams['ytick.direction'] = 'in'\n",
    "rcParams['ytick.right'] = True\n",
    "rcParams['xtick.top'] = True\n",
    "rcParams['axes.linewidth'] = 2.0\n",
    "rcParams['xtick.major.size'] = 3.5\n",
    "rcParams['xtick.major.width'] = 1.5\n",
    "rcParams['xtick.minor.size'] = 2.5\n",
    "rcParams['xtick.minor.width'] = 1.0\n",
    "rcParams['ytick.major.size'] = 3.5\n",
    "rcParams['ytick.major.width'] = 1.5\n",
    "rcParams['ytick.minor.size'] = 2.5\n",
    "rcParams['ytick.minor.width'] = 1.0\n",
    "rcParams['lines.markersize'] = 7\n",
    "rcParams['lines.linewidth'] = 1.5\n",
    "\n",
    "markers1 = np.array(['o', '^', 's', 'x', 'd', 'v'])\n",
    "markers2 = np.array(['s', 'o', 'x', '*'])\n",
    "# Other options: Dark2, Pastel1, Pastel2, Accent,\n",
    "# Set1, Set2, Set3, tab10, tab20, tab20b, tab20c\n",
    "colors = sns.color_palette('muted') + sns.color_palette('dark',)"
   ]
  },
  {
   "cell_type": "markdown",
   "metadata": {},
   "source": [
    "## NCCL AllReduce histogram"
   ]
  },
  {
   "cell_type": "code",
   "execution_count": 5,
   "metadata": {},
   "outputs": [
    {
     "data": {
      "image/png": "[encoded data removed]",
      "text/plain": [
       "<Figure size 576x432 with 2 Axes>"
      ]
     },
     "metadata": {
      "needs_background": "light"
     },
     "output_type": "display_data"
    }
   ],
   "source": [
    "# data collected for 8 node runs\n",
    "ranks = sorted(d._hash[8].keys())\n",
    "op, datatype = 'ncclSum', 'ncclFloat32'\n",
    "\n",
    "fig, axs = plt.subplots(nrows=2, ncols=1, sharex=True, figsize=(8, 6.))\n",
    "plt.suptitle('NCCL AllReduce invocations vs. count\\n'\n",
    "             +'op: {}, datatype: {}'.format(op, datatype), y=1.1, fontsize=20)\n",
    "\n",
    "# 4 Bytes * count\n",
    "num_epochs = 16.\n",
    "nbytes = np.array(4*d._hash[8][0][op][datatype])\n",
    "nbytes_to_count = Counter(nbytes)\n",
    "\n",
    "# MegaBytes\n",
    "x = np.array(list(nbytes_to_count.keys()))\n",
    "y = np.array([nbytes_to_count[nb]/num_epochs for nb in x])\n",
    "\n",
    "# Plot MegaBytes vs. Count\n",
    "plt.sca(axs.flatten()[0])\n",
    "plt.scatter(x/10.**6, y, color=colors[0], marker='o',\n",
    "            facecolor=mpl.colors.ColorConverter().to_rgba(colors[0], alpha=0.5),\n",
    "            edgecolor=mpl.colors.ColorConverter().to_rgba('k', alpha=1.0), zorder=5)\n",
    "#plt.ylim(-100, 900)\n",
    "plt.yscale('log')\n",
    "plt.gca().yaxis.grid(True)\n",
    "plt.ylabel('Number of invocations per epoch')\n",
    "\n",
    "\n",
    "# Plot MegaBytes vs. Count\n",
    "plt.sca(axs.flatten()[1])\n",
    "plt.xscale('log')\n",
    "bins = np.logspace(-7,2,num=50)\n",
    "plt.hist(nbytes/10.**6, bins=bins, color=colors[0], edgecolor='k', zorder=5)\n",
    "#plt.ylim(-100, 2700)\n",
    "plt.yscale('log')\n",
    "plt.xlim(0.0000001, 100)\n",
    "plt.ylim(1, 10000)\n",
    "y_vals = plt.gca().get_yticks()\n",
    "plt.gca().set_yticklabels(['{:3.0f}'.format(x/num_epochs) for x in y_vals])\n",
    "plt.gca().yaxis.grid(True)\n",
    "plt.xlabel('ncclAllReduce buffer size (MB)')\n",
    "plt.ylabel('Number of invocations per epoch')\n",
    "plt.tight_layout()\n",
    "\n",
    "plt.savefig('figs/NCCL_count_log.png', dpi=150, bbox_inches='tight')"
   ]
  }
 ],
 "metadata": {
  "kernelspec": {
   "display_name": "py37",
   "language": "python",
   "name": "py37"
  },
  "language_info": {
   "codemirror_mode": {
    "name": "ipython",
    "version": 3
   },
   "file_extension": ".py",
   "mimetype": "text/x-python",
   "name": "python",
   "nbconvert_exporter": "python",
   "pygments_lexer": "ipython3",
   "version": "3.7.4"
  }
 },
 "nbformat": 4,
 "nbformat_minor": 2
}
