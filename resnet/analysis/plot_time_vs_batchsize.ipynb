{
 "cells": [
  {
   "cell_type": "markdown",
   "metadata": {},
   "source": [
    "# Compare time-to-convergence vs. batch size\n",
    "Compare the walltime to get to get from 0.0 train accuracy to 0.60 train accuracy, varying the batch size (8 nodes)."
   ]
  },
  {
   "cell_type": "code",
   "execution_count": 1,
   "metadata": {},
   "outputs": [
    {
     "name": "stderr",
     "output_type": "stream",
     "text": [
      "/ccs/home/mrowan/.conda/envs/py37/lib/python3.7/site-packages/statsmodels/tools/_testing.py:19: FutureWarning: pandas.util.testing is deprecated. Use the functions in the public API at pandas.testing instead.\n",
      "  import pandas.util.testing as tm\n"
     ]
    }
   ],
   "source": [
    "import numpy as np\n",
    "import matplotlib.pyplot as plt\n",
    "from matplotlib import rcParams\n",
    "import seaborn as sns\n",
    "import datetime"
   ]
  },
  {
   "cell_type": "markdown",
   "metadata": {},
   "source": [
    "## Plotting preferences"
   ]
  },
  {
   "cell_type": "code",
   "execution_count": 2,
   "metadata": {},
   "outputs": [],
   "source": [
    "golden = 1.61803398875\n",
    "figWidth = 5. # inches\n",
    "figLength = figWidth/golden\n",
    "figSize1x1 = (figWidth, figLength)\n",
    "\n",
    "rcParams['font.sans-serif'] = 'Arial'\n",
    "rcParams['font.family'] = 'sans-serif'\n",
    "rcParams['mathtext.fontset'] = 'custom'\n",
    "rcParams['mathtext.rm'] = 'Arial'\n",
    "rcParams['mathtext.it'] = 'Arial:italic'\n",
    "rcParams['mathtext.bf'] = 'Arial:bold'\n",
    "rcParams['axes.labelsize'] = '12'\n",
    "rcParams['xtick.labelsize'] = '12'\n",
    "rcParams['ytick.labelsize'] = '12'\n",
    "rcParams['legend.labelspacing'] = '0.1'\n",
    "rcParams['xtick.direction'] = 'in'\n",
    "rcParams['ytick.direction'] = 'in'\n",
    "rcParams['ytick.right'] = True\n",
    "rcParams['xtick.top'] = True\n",
    "rcParams['axes.linewidth'] = 2.0\n",
    "rcParams['xtick.major.size'] = 3.5\n",
    "rcParams['xtick.major.width'] = 1.5\n",
    "rcParams['xtick.minor.size'] = 2.5\n",
    "rcParams['xtick.minor.width'] = 1.0\n",
    "rcParams['ytick.major.size'] = 3.5\n",
    "rcParams['ytick.major.width'] = 1.5\n",
    "rcParams['ytick.minor.size'] = 2.5\n",
    "rcParams['ytick.minor.width'] = 1.0\n",
    "rcParams['lines.markersize'] = 7\n",
    "rcParams['lines.linewidth'] = 1.5\n",
    "\n",
    "markers1 = np.array(['o', '^', 's', 'x', 'd', 'v'])\n",
    "markers2 = np.array(['s', 'o', 'x', '*'])\n",
    "# Other options: Dark2, Pastel1, Pastel2, Accent,\n",
    "# Set1, Set2, Set3, tab10, tab20, tab20b, tab20c\n",
    "colors = sns.color_palette('muted') + sns.color_palette('dark',)"
   ]
  },
  {
   "cell_type": "code",
   "execution_count": 3,
   "metadata": {},
   "outputs": [],
   "source": [
    "batch_size = np.array(['32', '128'])\n",
    "duration_seconds = []\n",
    "\n",
    "starts = np.array(['18:28:03.263724', '17:01:13.566772']) # 0.0 train_accuracy\n",
    "stops  = np.array(['19:46:16.130530', '17:39:53.846414']) # >= 0.60 train_accuracy"
   ]
  },
  {
   "cell_type": "code",
   "execution_count": 4,
   "metadata": {},
   "outputs": [
    {
     "name": "stdout",
     "output_type": "stream",
     "text": [
      "batch size = 32, duration = 4692.866806 sec = 78 min\n",
      "batch size = 128, duration = 2320.279642 sec = 39 min\n"
     ]
    }
   ],
   "source": [
    "fmt = '%H:%M:%S.%f'\n",
    "for i,b in enumerate(batch_size):\n",
    "    start = datetime.datetime.strptime(starts[i], fmt)\n",
    "    stop = datetime.datetime.strptime(stops[i], fmt)\n",
    "    t = stop - start\n",
    "    t_seconds = t.total_seconds()\n",
    "    t_minutes = int(round(t.total_seconds() / 60))\n",
    "    duration_seconds.append(t_seconds)\n",
    "    print(\"batch size = {}, duration = {} sec = {} min\".format(b, t_seconds, t_minutes))"
   ]
  },
  {
   "cell_type": "code",
   "execution_count": 6,
   "metadata": {},
   "outputs": [
    {
     "data": {
      "image/png": "[encoded data removed]",
      "text/plain": [
       "<Figure size 432x288 with 1 Axes>"
      ]
     },
     "metadata": {
      "needs_background": "light"
     },
     "output_type": "display_data"
    }
   ],
   "source": [
    "x = range(len(batch_size))\n",
    "plt.bar(x, duration_seconds, zorder=5, color=colors[0])\n",
    "plt.xlabel('Batch size')\n",
    "plt.ylabel('Time (s)')\n",
    "plt.title('Walltime to train accuracy of 0.60')\n",
    "plt.gca().yaxis.grid(True)\n",
    "plt.xticks(x, labels=batch_size);"
   ]
  }
 ],
 "metadata": {
  "kernelspec": {
   "display_name": "py37",
   "language": "python",
   "name": "py37"
  },
  "language_info": {
   "codemirror_mode": {
    "name": "ipython",
    "version": 3
   },
   "file_extension": ".py",
   "mimetype": "text/x-python",
   "name": "python",
   "nbconvert_exporter": "python",
   "pygments_lexer": "ipython3",
   "version": "3.7.4"
  }
 },
 "nbformat": 4,
 "nbformat_minor": 2
}
